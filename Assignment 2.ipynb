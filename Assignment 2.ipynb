{
 "cells": [
  {
   "cell_type": "markdown",
   "metadata": {},
   "source": [
    "# Assignment 2 Zhen Zhong"
   ]
  },
  {
   "cell_type": "markdown",
   "metadata": {},
   "source": [
    "## 1. Autoencoder "
   ]
  },
  {
   "cell_type": "markdown",
   "metadata": {},
   "source": [
    "A convolutional autoencoder is a particular flavor of autoencoder where we use convolutional layers instead of dense layers. We have previously applied autoencoders to images using only Dense layers and the result worked fairly well. However, the local spatial correlations of images imply that we should be able to do better using convolutional layers instead of Dense layers.\n",
    "Build and fit a convolutional autoencoder for the Fashion MNIST dataset.The components of this network will be many of the same pieces we’ve used with convolutional classification networks: Conv2D, MaxPooling, and so on.The encoder part of the network should run the input image through a few convolutional layers of your choice. The decoder part of the network will utilize\n",
    "UpSampling2D to get the representation back to the original image size."
   ]
  },
  {
   "cell_type": "code",
   "execution_count": 1,
   "metadata": {},
   "outputs": [
    {
     "name": "stderr",
     "output_type": "stream",
     "text": [
      "C:\\Users\\Zhen\\Anaconda3\\lib\\site-packages\\h5py\\__init__.py:34: FutureWarning: Conversion of the second argument of issubdtype from `float` to `np.floating` is deprecated. In future, it will be treated as `np.float64 == np.dtype(float).type`.\n",
      "  from ._conv import register_converters as _register_converters\n",
      "Using TensorFlow backend.\n"
     ]
    }
   ],
   "source": [
    "from keras.layers import Input, Dense, Conv2D, MaxPooling2D, UpSampling2D\n",
    "from keras.models import Model\n",
    "from keras import backend as K\n",
    "from keras.datasets import fashion_mnist\n",
    "import matplotlib.pyplot as plt\n",
    "import numpy as np\n",
    "%matplotlib inline"
   ]
  },
  {
   "cell_type": "code",
   "execution_count": 2,
   "metadata": {},
   "outputs": [],
   "source": [
    "#Download the data \n",
    "(x_train, y_train), (x_test, y_test) = fashion_mnist.load_data()"
   ]
  },
  {
   "cell_type": "code",
   "execution_count": 3,
   "metadata": {
    "collapsed": true
   },
   "outputs": [],
   "source": [
    "# flatten the 28x28 images into vectors of size 784\n",
    "x_train = x_train.astype('float32') / 255.\n",
    "x_test = x_test.astype('float32') / 255.\n",
    "x_train = np.reshape(x_train, (len(x_train), 28, 28, 1))  \n",
    "x_test = np.reshape(x_test, (len(x_test), 28, 28, 1))  "
   ]
  },
  {
   "cell_type": "code",
   "execution_count": 4,
   "metadata": {
    "collapsed": true
   },
   "outputs": [],
   "source": [
    "## adapt this if using `channels_first` image data format\n",
    "input_img = Input(shape=(28, 28, 1))  \n",
    "\n",
    "x = Conv2D(16, (3, 3), activation='relu', padding='same')(input_img)\n",
    "x = MaxPooling2D((2, 2), padding='same')(x)\n",
    "x = Conv2D(8, (3, 3), activation='relu', padding='same')(x)\n",
    "x = MaxPooling2D((2, 2), padding='same')(x)\n",
    "x = Conv2D(8, (3, 3), activation='relu', padding='same')(x)\n",
    "encoded = MaxPooling2D((2, 2), padding='same')(x)\n",
    "\n",
    "# at this point the representation is (4, 4, 8) i.e. 128-dimensional\n",
    "\n",
    "x = Conv2D(8, (3, 3), activation='relu', padding='same')(encoded)\n",
    "x = UpSampling2D((2, 2))(x)\n",
    "x = Conv2D(8, (3, 3), activation='relu', padding='same')(x)\n",
    "x = UpSampling2D((2, 2))(x)\n",
    "x = Conv2D(16, (3, 3), activation='relu')(x)\n",
    "x = UpSampling2D((2, 2))(x)\n",
    "decoded = Conv2D(1, (3, 3), activation='sigmoid', padding='same')(x)\n",
    "\n",
    "autoencoder = Model(input_img, decoded)\n",
    "autoencoder.compile(optimizer='adadelta', loss='binary_crossentropy')"
   ]
  },
  {
   "cell_type": "code",
   "execution_count": 6,
   "metadata": {},
   "outputs": [
    {
     "name": "stdout",
     "output_type": "stream",
     "text": [
      "Train on 60000 samples, validate on 10000 samples\n",
      "Epoch 1/10\n",
      "60000/60000 [==============================] - 117s 2ms/step - loss: 0.3509 - val_loss: 0.3314\n",
      "Epoch 2/10\n",
      "60000/60000 [==============================] - 119s 2ms/step - loss: 0.3227 - val_loss: 0.3208\n",
      "Epoch 3/10\n",
      "60000/60000 [==============================] - 120s 2ms/step - loss: 0.3125 - val_loss: 0.3174\n",
      "Epoch 4/10\n",
      "60000/60000 [==============================] - 121s 2ms/step - loss: 0.3077 - val_loss: 0.3071\n",
      "Epoch 5/10\n",
      "60000/60000 [==============================] - 132s 2ms/step - loss: 0.3044 - val_loss: 0.3097\n",
      "Epoch 6/10\n",
      "60000/60000 [==============================] - 131s 2ms/step - loss: 0.3020 - val_loss: 0.3028\n",
      "Epoch 7/10\n",
      "60000/60000 [==============================] - 119s 2ms/step - loss: 0.3001 - val_loss: 0.3003\n",
      "Epoch 8/10\n",
      "60000/60000 [==============================] - 123s 2ms/step - loss: 0.2984 - val_loss: 0.2966\n",
      "Epoch 9/10\n",
      "60000/60000 [==============================] - 119s 2ms/step - loss: 0.2971 - val_loss: 0.2957\n",
      "Epoch 10/10\n",
      "60000/60000 [==============================] - 119s 2ms/step - loss: 0.2960 - val_loss: 0.2957\n"
     ]
    },
    {
     "data": {
      "text/plain": [
       "<keras.callbacks.History at 0x17d808d0128>"
      ]
     },
     "execution_count": 6,
     "metadata": {},
     "output_type": "execute_result"
    }
   ],
   "source": [
    "#Choose epochs=10 \n",
    "autoencoder.fit(x_train, x_train,\n",
    "                epochs=10,\n",
    "                batch_size=128,\n",
    "                shuffle=True,\n",
    "                validation_data=(x_test, x_test))"
   ]
  },
  {
   "cell_type": "code",
   "execution_count": 8,
   "metadata": {},
   "outputs": [
    {
     "data": {
      "image/png": "[encoded data removed]",
      "text/plain": [
       "<matplotlib.figure.Figure at 0x12fb0229b38>"
      ]
     },
     "metadata": {},
     "output_type": "display_data"
    }
   ],
   "source": [
    "decoded_imgs = autoencoder.predict(x_test)\n",
    "\n",
    "n = 10\n",
    "plt.figure(figsize=(20, 4))\n",
    "for i in range(n):\n",
    "    # display original\n",
    "    ax = plt.subplot(2, n, i + 1)\n",
    "    plt.imshow(x_test[i].reshape(28, 28))\n",
    "    plt.gray()\n",
    "    ax.get_xaxis().set_visible(False)\n",
    "    ax.get_yaxis().set_visible(False)\n",
    "\n",
    "    # display reconstruction\n",
    "    ax = plt.subplot(2, n, i + n + 1)\n",
    "    plt.imshow(decoded_imgs[i].reshape(28, 28))\n",
    "    plt.gray()\n",
    "    ax.get_xaxis().set_visible(False)\n",
    "    ax.get_yaxis().set_visible(False)\n",
    "plt.show()"
   ]
  },
  {
   "cell_type": "markdown",
   "metadata": {},
   "source": [
    "## 2. Image Classification\n"
   ]
  },
  {
   "cell_type": "markdown",
   "metadata": {},
   "source": [
    "We'll continue to use the Fashion MNIST dataset and build a deep convolutional network for classification."
   ]
  },
  {
   "cell_type": "markdown",
   "metadata": {},
   "source": [
    "### 2.1.  Deep CNN "
   ]
  },
  {
   "cell_type": "markdown",
   "metadata": {},
   "source": [
    "Build a deep CNN to classify the images. Provide a brief description of the architectural choices you've made: kernel sizes, strides, padding, network depth. Train your network end-to-end. Report on your model's performance on training set and test set."
   ]
  },
  {
   "cell_type": "code",
   "execution_count": 7,
   "metadata": {},
   "outputs": [],
   "source": [
    "# Tools for data transformation\n",
    "from keras.utils import np_utils\n",
    "\n",
    "# We do this through one-hot encoding\n",
    "# Convert 1-dimensional class arrays to 10-dimensional class matrices\n",
    "Y_train = np_utils.to_categorical(y_train, 10)\n",
    "Y_test = np_utils.to_categorical(y_test, 10)\n"
   ]
  },
  {
   "cell_type": "code",
   "execution_count": 8,
   "metadata": {},
   "outputs": [
    {
     "name": "stdout",
     "output_type": "stream",
     "text": [
      "_________________________________________________________________\n",
      "Layer (type)                 Output Shape              Param #   \n",
      "=================================================================\n",
      "conv2d_8 (Conv2D)            (None, 28, 28, 64)        1088      \n",
      "_________________________________________________________________\n",
      "max_pooling2d_4 (MaxPooling2 (None, 14, 14, 64)        0         \n",
      "_________________________________________________________________\n",
      "dropout_1 (Dropout)          (None, 14, 14, 64)        0         \n",
      "_________________________________________________________________\n",
      "conv2d_9 (Conv2D)            (None, 14, 14, 64)        65600     \n",
      "_________________________________________________________________\n",
      "max_pooling2d_5 (MaxPooling2 (None, 7, 7, 64)          0         \n",
      "_________________________________________________________________\n",
      "dropout_2 (Dropout)          (None, 7, 7, 64)          0         \n",
      "_________________________________________________________________\n",
      "flatten_1 (Flatten)          (None, 3136)              0         \n",
      "_________________________________________________________________\n",
      "dense_1 (Dense)              (None, 64)                200768    \n",
      "_________________________________________________________________\n",
      "dropout_3 (Dropout)          (None, 64)                0         \n",
      "_________________________________________________________________\n",
      "dense_2 (Dense)              (None, 10)                650       \n",
      "=================================================================\n",
      "Total params: 268,106\n",
      "Trainable params: 268,106\n",
      "Non-trainable params: 0\n",
      "_________________________________________________________________\n",
      "None\n"
     ]
    }
   ],
   "source": [
    "# =============================\n",
    "#  Building the CNN model \n",
    "# ============================\n",
    "# Declaring sequential model\n",
    "from keras.models import Sequential\n",
    "from keras.layers import Dropout, Flatten\n",
    "\n",
    "model = Sequential()\n",
    "##Set up the kernel size, padding \n",
    "\n",
    "model.add(Conv2D(filters =64 ,kernel_size=(4, 4), \n",
    "                 activation='relu', strides=(1, 1), \n",
    "                 padding='same',\n",
    "                 input_shape=(28,28,1)))\n",
    "\n",
    "#Set the 2 by 2 Maxpooling layer \n",
    "#Set 0.25 Dropout rate\n",
    "model.add(MaxPooling2D(pool_size=(2,2)))\n",
    "model.add(Dropout(0.25))\n",
    "model.add(Conv2D(filters = 64,kernel_size=(4, 4), \n",
    "                 activation='relu', strides=(1, 1), \n",
    "                 padding='same'))\n",
    "\n",
    "model.add(MaxPooling2D(pool_size=(2,2)))\n",
    "model.add(Dropout(0.25))\n",
    "model.add(Flatten())\n",
    "#Sete fully connected layer with 64 Dense nodes\n",
    "#Set 0.5 Dropout rate\n",
    "model.add(Dense(64, activation='relu'))\n",
    "model.add(Dropout(0.5))\n",
    "model.add(Dense(10, activation='softmax'))\n",
    "print(model.summary())"
   ]
  },
  {
   "cell_type": "code",
   "execution_count": 10,
   "metadata": {},
   "outputs": [
    {
     "name": "stdout",
     "output_type": "stream",
     "text": [
      "Train on 42000 samples, validate on 18000 samples\n",
      "Epoch 1/5\n",
      "42000/42000 [==============================] - 222s 5ms/step - loss: 0.3832 - acc: 0.8636 - val_loss: 0.2867 - val_acc: 0.8977\n",
      "Epoch 2/5\n",
      "42000/42000 [==============================] - 194s 5ms/step - loss: 0.3517 - acc: 0.8746 - val_loss: 0.2872 - val_acc: 0.8943\n",
      "Epoch 3/5\n",
      "42000/42000 [==============================] - 184s 4ms/step - loss: 0.3295 - acc: 0.8838 - val_loss: 0.2527 - val_acc: 0.9086\n",
      "Epoch 4/5\n",
      "42000/42000 [==============================] - 210s 5ms/step - loss: 0.3138 - acc: 0.8874 - val_loss: 0.2449 - val_acc: 0.9112\n",
      "Epoch 5/5\n",
      "42000/42000 [==============================] - 168s 4ms/step - loss: 0.2943 - acc: 0.8932 - val_loss: 0.2508 - val_acc: 0.9079\n",
      "60000/60000 [==============================] - 77s 1ms/step\n",
      "10000/10000 [==============================] - 13s 1ms/step\n"
     ]
    }
   ],
   "source": [
    "#Model Complice\n",
    "model.compile(loss='categorical_crossentropy',\n",
    "              optimizer='adam',\n",
    "              metrics=['accuracy'])\n",
    "\n",
    "#Fit the model \n",
    "#Set the epoch=5\n",
    "#Set the validation rate as 30%\n",
    "model.fit(x_train, Y_train,\n",
    "          epochs=5,\n",
    "          batch_size=128,\n",
    "          validation_split = 0.3)\n"
   ]
  },
  {
   "cell_type": "code",
   "execution_count": 13,
   "metadata": {},
   "outputs": [
    {
     "name": "stdout",
     "output_type": "stream",
     "text": [
      "10000/10000 [==============================] - 11s 1ms/step\n",
      "Test loss: 0.270441812813282\n",
      "Test accuracy: 0.9007\n"
     ]
    }
   ],
   "source": [
    "#Evaluate Model \n",
    "test_score = model.evaluate(x_test, Y_test)\n",
    "print('Test loss:', test_score[0])\n",
    "print('Test accuracy:', test_score[1])"
   ]
  },
  {
   "cell_type": "markdown",
   "metadata": {},
   "source": [
    "I use two convolution layers and each layer accompanied with 64 3 by 3 filters, striding 1 by 1. Each convolution layer is followed has a max pooling layer with size 2 by 2. I apply the drop out at the last max pooling layer.Then we add two dense layers with 64 and 10 neurons respectively, accompanied with a drop out on both layear. I also apply relu activation on all layer except for the last layer, where softmax is used.\n",
    "\n",
    "The model is trained for 5 epochs with 30% validation. Based on the results, the accuracy of validation set is around 89% while the accuracy of test is about 90%."
   ]
  },
  {
   "cell_type": "markdown",
   "metadata": {},
   "source": [
    "### 2.2 Transfer Learning "
   ]
  },
  {
   "cell_type": "markdown",
   "metadata": {},
   "source": [
    "Repeat the same task, but this time utilize a pre-trained network for the majority of your model. You should only train the final Dense layer, all other weights should be fixed. You can use whichever pre-trained backbone you like (ResNet,VGG, etc). Report on your model's performance on training set and test set."
   ]
  },
  {
   "cell_type": "code",
   "execution_count": 36,
   "metadata": {
    "collapsed": true
   },
   "outputs": [],
   "source": [
    "from keras.applications import ResNet50\n",
    "import matplotlib.pyplot as plt\n",
    "from keras.preprocessing.image import ImageDataGenerator, array_to_img, img_to_array, load_img\n",
    "from keras.datasets import fashion_mnist\n",
    "from keras.utils import np_utils\n",
    "from keras.models import Sequential\n",
    "from keras.layers import Dense, Dropout, Flatten"
   ]
  },
  {
   "cell_type": "code",
   "execution_count": 37,
   "metadata": {},
   "outputs": [
    {
     "name": "stdout",
     "output_type": "stream",
     "text": [
      "_________________________________________________________________\n",
      "Layer (type)                 Output Shape              Param #   \n",
      "=================================================================\n",
      "vgg19 (Model)                (None, 1, 1, 512)         20024384  \n",
      "_________________________________________________________________\n",
      "flatten_3 (Flatten)          (None, 512)               0         \n",
      "_________________________________________________________________\n",
      "dense_5 (Dense)              (None, 256)               131328    \n",
      "_________________________________________________________________\n",
      "dropout_5 (Dropout)          (None, 256)               0         \n",
      "_________________________________________________________________\n",
      "dense_6 (Dense)              (None, 10)                2570      \n",
      "=================================================================\n",
      "Total params: 20,158,282\n",
      "Trainable params: 133,898\n",
      "Non-trainable params: 20,024,384\n",
      "_________________________________________________________________\n"
     ]
    }
   ],
   "source": [
    "# set minimum input size\n",
    "conv_base = ResNet50(weights=\"imagenet\",include_top=False,input_shape=(50,50,3))\n",
    "transfer_model = Sequential()\n",
    "transfer_model.add(conv_base)\n",
    "transfer_model.add(Flatten())\n",
    "transfer_model.add(Dense(256, activation=\"relu\"))\n",
    "transfer_model.add(Dropout(0.5))\n",
    "transfer_model.add(Dense(10, activation=\"softmax\"))   \n",
    "conv_base.trainable = False\n",
    "transfer_model.summary()"
   ]
  },
  {
   "cell_type": "code",
   "execution_count": 38,
   "metadata": {},
   "outputs": [
    {
     "data": {
      "text/plain": [
       "((60000, 50, 50, 3), (10000, 50, 50, 3))"
      ]
     },
     "execution_count": 38,
     "metadata": {},
     "output_type": "execute_result"
    }
   ],
   "source": [
    "#load the data\n",
    "(x_train, y_train), (x_test, y_test) = fashion_mnist.load_data()\n",
    "\n",
    "Y_train = np_utils.to_categorical(y_train, 10)\n",
    "Y_test = np_utils.to_categorical(y_test, 10)\n",
    "\n",
    "x_train = np.dstack([x_train] * 3)\n",
    "x_test = np.dstack([x_test] * 3)\n",
    "\n",
    "x_train = x_train.reshape(-1, 28, 28, 3)\n",
    "x_test = x_test.reshape (-1, 28, 28, 3)\n",
    "x_train = np.asarray([img_to_array(array_to_img(im, scale=False).resize((50,50))) for im in x_train])/255.\n",
    "x_test = np.asarray([img_to_array(array_to_img(im, scale=False).resize((50,50))) for im in x_test])/255.\n",
    "\n",
    "x_train.shape, x_test.shape"
   ]
  },
  {
   "cell_type": "code",
   "execution_count": 39,
   "metadata": {},
   "outputs": [],
   "source": [
    "conv_base.trainable = False\n",
    "transfer_model.compile(loss=\"categorical_crossentropy\", optimizer='adam',metrics=[\"acc\"])"
   ]
  },
  {
   "cell_type": "code",
   "execution_count": 62,
   "metadata": {},
   "outputs": [
    {
     "name": "stdout",
     "output_type": "stream",
     "text": [
      "Train on 42000 samples, validate on 18000 samples\n",
      "Epoch 1/5\n",
      "42000/42000 [==============================] - 2233s 53ms/step - loss: 0.8289 - acc: 0.7052 - val_loss: 0.5920 - val_acc: 0.7904\n",
      "Epoch 2/5\n",
      "42000/42000 [==============================] - 2462s 59ms/step - loss: 0.6040 - acc: 0.7850 - val_loss: 0.5357 - val_acc: 0.8090\n",
      "Epoch 3/5\n",
      "42000/42000 [==============================] - 2439s 58ms/step - loss: 0.5507 - acc: 0.8026 - val_loss: 0.5077 - val_acc: 0.8171\n",
      "Epoch 4/5\n",
      "42000/42000 [==============================] - 1839s 44ms/step - loss: 0.5254 - acc: 0.8107 - val_loss: 0.4927 - val_acc: 0.8224\n",
      "Epoch 5/5\n",
      "42000/42000 [==============================] - 1892s 45ms/step - loss: 0.5048 - acc: 0.8176 - val_loss: 0.4758 - val_acc: 0.8268\n"
     ]
    },
    {
     "data": {
      "text/plain": [
       "<keras.callbacks.History at 0x17e436820f0>"
      ]
     },
     "execution_count": 62,
     "metadata": {},
     "output_type": "execute_result"
    }
   ],
   "source": [
    "transfer_model.fit(x_train, Y_train,\n",
    "          epochs=5,\n",
    "          batch_size=128,\n",
    "          validation_split = 0.3)"
   ]
  },
  {
   "cell_type": "code",
   "execution_count": 63,
   "metadata": {},
   "outputs": [
    {
     "name": "stdout",
     "output_type": "stream",
     "text": [
      "10000/10000 [==============================] - 337s 34ms/step\n",
      "Test loss: 0.48518225479125976\n",
      "Test accuracy: 0.8228\n"
     ]
    }
   ],
   "source": [
    "#Evaluate model \n",
    "test_score = transfer_model.evaluate(x_test, Y_test)\n",
    "print('Test loss:', test_score[0])\n",
    "print('Test accuracy:', test_score[1])"
   ]
  },
  {
   "cell_type": "markdown",
   "metadata": {},
   "source": [
    "Based on the result, we can see that the accuracy of validation set is about 82% while the accuracy of test set is about 82.3% which seems fair. "
   ]
  },
  {
   "cell_type": "markdown",
   "metadata": {},
   "source": [
    "### 3.Text Classification "
   ]
  },
  {
   "cell_type": "markdown",
   "metadata": {},
   "source": [
    "While images contain local spatial correlations and structure, many other datasets contain temporal correlations. Examples include time series and discrete sequences such as text. In this problem, we will tackle the task of text classification in the context of cybersecurity."
   ]
  },
  {
   "cell_type": "code",
   "execution_count": 41,
   "metadata": {
    "collapsed": true
   },
   "outputs": [],
   "source": [
    "df_benigh = pd.read_csv('https://s3.amazonaws.com/anly-590/url-classification/benign-urls.txt')\n",
    "df_malicious = pd.read_csv('https://s3.amazonaws.com/anly-590/url-classification/malicious-urls.txt', header = None)"
   ]
  },
  {
   "cell_type": "code",
   "execution_count": 42,
   "metadata": {},
   "outputs": [
    {
     "name": "stdout",
     "output_type": "stream",
     "text": [
      "(66056, 1)\n"
     ]
    },
    {
     "data": {
      "text/html": [
       "<div>\n",
       "<style>\n",
       "    .dataframe thead tr:only-child th {\n",
       "        text-align: right;\n",
       "    }\n",
       "\n",
       "    .dataframe thead th {\n",
       "        text-align: left;\n",
       "    }\n",
       "\n",
       "    .dataframe tbody tr th {\n",
       "        vertical-align: top;\n",
       "    }\n",
       "</style>\n",
       "<table border=\"1\" class=\"dataframe\">\n",
       "  <thead>\n",
       "    <tr style=\"text-align: right;\">\n",
       "      <th></th>\n",
       "      <th>urls</th>\n",
       "    </tr>\n",
       "  </thead>\n",
       "  <tbody>\n",
       "    <tr>\n",
       "      <th>0</th>\n",
       "      <td>.0.blogger.gmodules.com</td>\n",
       "    </tr>\n",
       "    <tr>\n",
       "      <th>1</th>\n",
       "      <td>.0.client-channel.google.com</td>\n",
       "    </tr>\n",
       "    <tr>\n",
       "      <th>2</th>\n",
       "      <td>.0.docs.google.com</td>\n",
       "    </tr>\n",
       "    <tr>\n",
       "      <th>3</th>\n",
       "      <td>.0.drive.google.com</td>\n",
       "    </tr>\n",
       "    <tr>\n",
       "      <th>4</th>\n",
       "      <td>.0.gvt0.cn</td>\n",
       "    </tr>\n",
       "  </tbody>\n",
       "</table>\n",
       "</div>"
      ],
      "text/plain": [
       "                           urls\n",
       "0       .0.blogger.gmodules.com\n",
       "1  .0.client-channel.google.com\n",
       "2            .0.docs.google.com\n",
       "3           .0.drive.google.com\n",
       "4                    .0.gvt0.cn"
      ]
     },
     "execution_count": 42,
     "metadata": {},
     "output_type": "execute_result"
    }
   ],
   "source": [
    "df_benigh.columns = ['urls']\n",
    "print(df_benigh.shape)\n",
    "df_benigh.head()"
   ]
  },
  {
   "cell_type": "code",
   "execution_count": 43,
   "metadata": {},
   "outputs": [
    {
     "name": "stdout",
     "output_type": "stream",
     "text": [
      "(1296, 1)\n"
     ]
    },
    {
     "data": {
      "text/html": [
       "<div>\n",
       "<style>\n",
       "    .dataframe thead tr:only-child th {\n",
       "        text-align: right;\n",
       "    }\n",
       "\n",
       "    .dataframe thead th {\n",
       "        text-align: left;\n",
       "    }\n",
       "\n",
       "    .dataframe tbody tr th {\n",
       "        vertical-align: top;\n",
       "    }\n",
       "</style>\n",
       "<table border=\"1\" class=\"dataframe\">\n",
       "  <thead>\n",
       "    <tr style=\"text-align: right;\">\n",
       "      <th></th>\n",
       "      <th>urls</th>\n",
       "    </tr>\n",
       "  </thead>\n",
       "  <tbody>\n",
       "    <tr>\n",
       "      <th>0</th>\n",
       "      <td>.1337x.pl</td>\n",
       "    </tr>\n",
       "    <tr>\n",
       "      <th>1</th>\n",
       "      <td>.1link.io</td>\n",
       "    </tr>\n",
       "    <tr>\n",
       "      <th>2</th>\n",
       "      <td>.1n.pm</td>\n",
       "    </tr>\n",
       "    <tr>\n",
       "      <th>3</th>\n",
       "      <td>.22apple.com</td>\n",
       "    </tr>\n",
       "    <tr>\n",
       "      <th>4</th>\n",
       "      <td>.22find.com</td>\n",
       "    </tr>\n",
       "  </tbody>\n",
       "</table>\n",
       "</div>"
      ],
      "text/plain": [
       "           urls\n",
       "0     .1337x.pl\n",
       "1     .1link.io\n",
       "2        .1n.pm\n",
       "3  .22apple.com\n",
       "4   .22find.com"
      ]
     },
     "execution_count": 43,
     "metadata": {},
     "output_type": "execute_result"
    }
   ],
   "source": [
    "df_malicious.columns = ['urls']\n",
    "print(df_malicious.shape)\n",
    "df_malicious.head()"
   ]
  },
  {
   "cell_type": "markdown",
   "metadata": {},
   "source": [
    "### 3.1 RNN "
   ]
  },
  {
   "cell_type": "markdown",
   "metadata": {},
   "source": [
    "Build and train a Recurrent Neural Network to solve this text classification task.You can use any type of RNN you wish (SimpleRNN, GRU, LSTM)."
   ]
  },
  {
   "cell_type": "code",
   "execution_count": 44,
   "metadata": {
    "collapsed": true
   },
   "outputs": [],
   "source": [
    "from sklearn.model_selection import train_test_split\n",
    "from keras.preprocessing import sequence\n",
    "from keras.preprocessing.text import Tokenizer\n",
    "from keras.layers import SimpleRNN, Embedding"
   ]
  },
  {
   "cell_type": "code",
   "execution_count": 45,
   "metadata": {},
   "outputs": [],
   "source": [
    "df_benigh['class'] = 1\n",
    "df_malicious['class'] = 0\n",
    "np.random.seed(0)\n",
    "\n",
    "# Downsizing the major class samples \n",
    "x_1 = df_benigh.sample(frac=5*df_malicious.shape[0]/df_benigh.shape[0]) #5:1\n"
   ]
  },
  {
   "cell_type": "code",
   "execution_count": 46,
   "metadata": {
    "collapsed": true
   },
   "outputs": [],
   "source": [
    "df = pd.concat([x_1, df_malicious], ignore_index = True).reset_index()\n",
    "tokenizer = Tokenizer(filters=None, char_level=True)\n",
    "tokenizer.fit_on_texts(df['urls'])\n",
    "\n",
    "X_train = tokenizer.texts_to_sequences(df['urls'])\n",
    "y_train = df['class']\n",
    "#y_train = np_utils.to_categorical(df['class'], 2)\n",
    "\n",
    "max_features = 1000\n",
    "maxlen = df['urls'].str.len().max()"
   ]
  },
  {
   "cell_type": "code",
   "execution_count": 47,
   "metadata": {
    "collapsed": true
   },
   "outputs": [],
   "source": [
    "X_train, X_test, y_train, y_test = train_test_split(X_train, y_train, test_size=0.3, random_state=100)"
   ]
  },
  {
   "cell_type": "code",
   "execution_count": 48,
   "metadata": {
    "collapsed": true
   },
   "outputs": [],
   "source": [
    "input_train = sequence.pad_sequences(X_train, maxlen)\n",
    "input_test = sequence.pad_sequences(X_test, maxlen)"
   ]
  },
  {
   "cell_type": "code",
   "execution_count": 49,
   "metadata": {
    "collapsed": true
   },
   "outputs": [],
   "source": [
    "rnn_model = Sequential()\n",
    "rnn_model.add(Embedding(max_features, 64))\n",
    "rnn_model.add(SimpleRNN(32))\n",
    "rnn_model.add(Dense(1, activation='sigmoid'))\n",
    "rnn_model.compile(optimizer=\"rmsprop\", loss=\"binary_crossentropy\", metrics=[\"acc\"])"
   ]
  },
  {
   "cell_type": "code",
   "execution_count": 50,
   "metadata": {},
   "outputs": [
    {
     "name": "stdout",
     "output_type": "stream",
     "text": [
      "Train on 3810 samples, validate on 1633 samples\n",
      "Epoch 1/5\n",
      "3810/3810 [==============================] - 3s 808us/step - loss: 0.3814 - acc: 0.8386 - val_loss: 0.3082 - val_acc: 0.8573\n",
      "Epoch 2/5\n",
      "3810/3810 [==============================] - 1s 358us/step - loss: 0.2642 - acc: 0.8885 - val_loss: 0.2146 - val_acc: 0.9204\n",
      "Epoch 3/5\n",
      "3810/3810 [==============================] - 1s 354us/step - loss: 0.1888 - acc: 0.9318 - val_loss: 0.2226 - val_acc: 0.9443\n",
      "Epoch 4/5\n",
      "3810/3810 [==============================] - 1s 360us/step - loss: 0.1425 - acc: 0.9612 - val_loss: 0.2623 - val_acc: 0.8794\n",
      "Epoch 5/5\n",
      "3810/3810 [==============================] - 1s 360us/step - loss: 0.1149 - acc: 0.9672 - val_loss: 0.0971 - val_acc: 0.9767\n"
     ]
    },
    {
     "data": {
      "text/plain": [
       "<keras.callbacks.History at 0x17de75166d8>"
      ]
     },
     "execution_count": 50,
     "metadata": {},
     "output_type": "execute_result"
    }
   ],
   "source": [
    "rnn_model.fit(input_train, y_train, epochs=5, batch_size=128,validation_split=0.3)"
   ]
  },
  {
   "cell_type": "code",
   "execution_count": 52,
   "metadata": {},
   "outputs": [
    {
     "name": "stdout",
     "output_type": "stream",
     "text": [
      "Precision:  0.9947089947089947\n",
      "Recall:  0.9730848861283644\n",
      "F1:  0.9837781266352695\n",
      "ROC AUC:  0.9918268510917323\n"
     ]
    }
   ],
   "source": [
    "from sklearn.metrics import roc_auc_score, precision_score, recall_score, f1_score\n",
    "rnn_pred =rnn_model.predict_classes(input_test)\n",
    "rnn_prob =rnn_model.predict_proba(input_test)\n",
    "print('Precision: ',precision_score(y_test, rnn_pred))\n",
    "print('Recall: ',recall_score(y_test, rnn_pred))\n",
    "print('F1: ',f1_score(y_test, rnn_pred))\n",
    "print('ROC AUC: ',roc_auc_score(y_test, rnn_prob))"
   ]
  },
  {
   "cell_type": "markdown",
   "metadata": {},
   "source": [
    "We can see that the training accuracy is about 97% while the test accuracy is about 99%."
   ]
  },
  {
   "cell_type": "markdown",
   "metadata": {},
   "source": [
    "### 3.2 CNN "
   ]
  },
  {
   "cell_type": "markdown",
   "metadata": {},
   "source": [
    "Build and train a 1D CNN for this text classification task. You might gain some insight and inspiration from these text classification approaches:"
   ]
  },
  {
   "cell_type": "code",
   "execution_count": 53,
   "metadata": {},
   "outputs": [
    {
     "name": "stdout",
     "output_type": "stream",
     "text": [
      "_________________________________________________________________\n",
      "Layer (type)                 Output Shape              Param #   \n",
      "=================================================================\n",
      "embedding_2 (Embedding)      (None, 86, 64)            64000     \n",
      "_________________________________________________________________\n",
      "conv1d_1 (Conv1D)            (None, 84, 32)            6176      \n",
      "_________________________________________________________________\n",
      "flatten_4 (Flatten)          (None, 2688)              0         \n",
      "_________________________________________________________________\n",
      "dense_8 (Dense)              (None, 1)                 2689      \n",
      "=================================================================\n",
      "Total params: 72,865\n",
      "Trainable params: 72,865\n",
      "Non-trainable params: 0\n",
      "_________________________________________________________________\n",
      "None\n"
     ]
    }
   ],
   "source": [
    "from keras.layers import Conv1D\n",
    "\n",
    "cnn_model = Sequential()\n",
    "cnn_model.add(Embedding(max_features, 64, input_length = maxlen))\n",
    "cnn_model.add(Conv1D(32, 3, activation='relu'))\n",
    "cnn_model.add(Flatten())\n",
    "cnn_model.add(Dense(1, activation='sigmoid'))\n",
    "cnn_model.compile(optimizer=\"rmsprop\", loss=\"binary_crossentropy\", metrics=[\"acc\"])\n",
    "print(cnn_model.summary())"
   ]
  },
  {
   "cell_type": "code",
   "execution_count": 54,
   "metadata": {},
   "outputs": [
    {
     "name": "stdout",
     "output_type": "stream",
     "text": [
      "Train on 3810 samples, validate on 1633 samples\n",
      "Epoch 1/5\n",
      "3810/3810 [==============================] - 3s 679us/step - loss: 0.4294 - acc: 0.8134 - val_loss: 0.3357 - val_acc: 0.8261\n",
      "Epoch 2/5\n",
      "3810/3810 [==============================] - 1s 256us/step - loss: 0.2947 - acc: 0.8533 - val_loss: 0.2865 - val_acc: 0.8604\n",
      "Epoch 3/5\n",
      "3810/3810 [==============================] - 1s 271us/step - loss: 0.2494 - acc: 0.8761 - val_loss: 0.2324 - val_acc: 0.8861\n",
      "Epoch 4/5\n",
      "3810/3810 [==============================] - 1s 293us/step - loss: 0.1975 - acc: 0.9186 - val_loss: 0.1795 - val_acc: 0.9290\n",
      "Epoch 5/5\n",
      "3810/3810 [==============================] - 1s 262us/step - loss: 0.1507 - acc: 0.9475 - val_loss: 0.1378 - val_acc: 0.9535\n"
     ]
    },
    {
     "data": {
      "text/plain": [
       "<keras.callbacks.History at 0x17e435f1630>"
      ]
     },
     "execution_count": 54,
     "metadata": {},
     "output_type": "execute_result"
    }
   ],
   "source": [
    "cnn_model.fit(input_train, y_train, epochs=5, batch_size=128,validation_split=0.3)"
   ]
  },
  {
   "cell_type": "markdown",
   "metadata": {},
   "source": [
    "### 3.3  "
   ]
  },
  {
   "cell_type": "markdown",
   "metadata": {},
   "source": [
    "Be sure to directly compare your two methods with an ROC curve or similar validation method. Don't forget to create a train-test split."
   ]
  },
  {
   "cell_type": "code",
   "execution_count": 57,
   "metadata": {},
   "outputs": [
    {
     "name": "stdout",
     "output_type": "stream",
     "text": [
      "CNN performance:\n",
      "Precision:  0.9668705402650357\n",
      "Recall:  0.9818840579710145\n",
      "F1:  0.9743194658448896\n",
      "ROC AUC:  0.9878409566146745\n",
      "\n",
      "====================================\n",
      "\n",
      "RNN performance\n",
      "Precision:  0.9947089947089947\n",
      "Recall:  0.9730848861283644\n",
      "F1:  0.9837781266352695\n",
      "ROC AUC:  0.9918268510917323\n"
     ]
    }
   ],
   "source": [
    "from sklearn.metrics import roc_auc_score, precision_score, recall_score, f1_score\n",
    "cnn_pred =cnn_model.predict_classes(input_test)\n",
    "cnn_prob =cnn_model.predict_proba(input_test)\n",
    "print('CNN performance:')\n",
    "print('Precision: ',precision_score(y_test, cnn_pred))\n",
    "print('Recall: ',recall_score(y_test,cnn_pred))\n",
    "print('F1: ',f1_score(y_test, cnn_pred))\n",
    "print('ROC AUC: ',roc_auc_score(y_test, cnn_prob))\n",
    "print('\\n====================================\\n')\n",
    "print('RNN performance')\n",
    "print('Precision: ',precision_score(y_test, rnn_pred))\n",
    "print('Recall: ',recall_score(y_test, rnn_pred))\n",
    "print('F1: ',f1_score(y_test, rnn_pred))\n",
    "print('ROC AUC: ',roc_auc_score(y_test, rnn_prob))"
   ]
  },
  {
   "cell_type": "code",
   "execution_count": 61,
   "metadata": {
    "collapsed": true
   },
   "outputs": [],
   "source": [
    "#Build the ROC Curve\n",
    "from sklearn.metrics import roc_curve\n",
    "\n",
    "y_pred_rnn = rnn_model.predict(input_test).ravel()\n",
    "fpr_rnn, tpr_rnn, thresholds_rnn = roc_curve(y_test, y_pred_rnn)\n",
    "\n",
    "y_pred_cnn = cnn_model.predict(input_test).ravel()\n",
    "fpr_cnn, tpr_cnn, thresholds_cnn = roc_curve(y_test, y_pred_cnn)"
   ]
  },
  {
   "cell_type": "code",
   "execution_count": 59,
   "metadata": {
    "collapsed": true
   },
   "outputs": [],
   "source": [
    "from sklearn.metrics import auc\n",
    "auc_rnn = auc(fpr_rnn, tpr_rnn)\n",
    "auc_cnn = auc(fpr_cnn, tpr_cnn)"
   ]
  },
  {
   "cell_type": "code",
   "execution_count": 60,
   "metadata": {},
   "outputs": [
    {
     "data": {
      "image/png": "[encoded data removed]",
      "text/plain": [
       "<matplotlib.figure.Figure at 0x17e43614cf8>"
      ]
     },
     "metadata": {},
     "output_type": "display_data"
    }
   ],
   "source": [
    "plt.figure()\n",
    "plt.plot([0, 1], [0, 1], 'k--')\n",
    "plt.plot(fpr_rnn, tpr_rnn, label='RNN (area = {:.4f})'.format(auc_rnn))\n",
    "plt.plot(fpr_cnn, tpr_cnn, label='CNN (area = {:.4f})'.format(auc_cnn))\n",
    "plt.xlabel('False positive rate')\n",
    "plt.ylabel('True positive rate')\n",
    "plt.title('ROC curve')\n",
    "plt.legend(loc='best')\n",
    "plt.show()"
   ]
  },
  {
   "cell_type": "markdown",
   "metadata": {},
   "source": [
    "We compared an rnn model with convoluiton layer of 32 filters and a cnn model with a convoluiton layers of 32 filters respectively. Both models are trained for 5 epochs with a 30% validation set. Based on the evaluation, we can see that the performance of both model are similar. RNN model has better precision than CNN model, while recall shows the opposite result. The ROC AUC are high for both model due to imbalanced class size. The ROC AUC of RNN Model is slightly higher than the ROC AUC of CNN Model."
   ]
  },
  {
   "cell_type": "code",
   "execution_count": null,
   "metadata": {
    "collapsed": true
   },
   "outputs": [],
   "source": []
  }
 ],
 "metadata": {
  "kernelspec": {
   "display_name": "Python 3",
   "language": "python",
   "name": "python3"
  },
  "language_info": {
   "codemirror_mode": {
    "name": "ipython",
    "version": 3
   },
   "file_extension": ".py",
   "mimetype": "text/x-python",
   "name": "python",
   "nbconvert_exporter": "python",
   "pygments_lexer": "ipython3",
   "version": "3.6.2"
  }
 },
 "nbformat": 4,
 "nbformat_minor": 2
}
